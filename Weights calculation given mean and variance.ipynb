{
 "cells": [
  {
   "cell_type": "code",
   "execution_count": 41,
   "id": "276c7246",
   "metadata": {},
   "outputs": [
    {
     "name": "stdout",
     "output_type": "stream",
     "text": [
      "Optimal Weights Matrix:\n",
      "[[4.14462272e-01 5.85537727e-01 1.82335965e-10]\n",
      " [2.35261693e-01 3.76897934e-01 3.87840373e-01]\n",
      " [1.55864682e-01 5.51219934e-09 8.44135312e-01]\n",
      " [1.54523750e-01 5.11083215e-01 3.34393036e-01]\n",
      " [3.94476913e-02 4.56842637e-01 5.03709672e-01]]\n"
     ]
    }
   ],
   "source": [
    "import cvxpy as cp\n",
    "import numpy as np\n",
    "\n",
    "def optimize_weights_for_forecast_steps(returns_matrix, cov_matrices, max_variance):\n",
    "    num_steps, num_stocks = returns_matrix.shape\n",
    "    optimal_weights_matrix = np.zeros((num_steps, num_stocks))\n",
    "\n",
    "    for step in range(num_steps):\n",
    "        returns = returns_matrix[step, :]\n",
    "        cov_matrix = cov_matrices[step, :, :]\n",
    "\n",
    "        # Define the variables\n",
    "        weights = cp.Variable(num_stocks)\n",
    "\n",
    "        # Define the objective function (negative because cvxpy minimizes)\n",
    "        objective = cp.Maximize(-cp.sum(cp.multiply(returns, weights)))\n",
    "\n",
    "        # Define the constraints\n",
    "        constraints = [\n",
    "            cp.sum(weights) == 1,\n",
    "            weights >= 0,\n",
    "            cp.quad_form(weights, cov_matrix) <= max_variance  # You can replace max_variance with your specific constraint\n",
    "        ]\n",
    "\n",
    "        # Formulate the problem\n",
    "        problem = cp.Problem(objective, constraints)\n",
    "\n",
    "        # Solve the problem with error handling\n",
    "        try:\n",
    "            problem.solve()\n",
    "            optimal_weights_matrix[step, :] = weights.value\n",
    "        except cp.error.SolverError:\n",
    "            print(f\"Optimization failed for step {step}. Check data or adjust constraints.\")\n",
    "            optimal_weights_matrix[step, :] = np.nan\n",
    "\n",
    "    return optimal_weights_matrix\n",
    "\n",
    "# Example usage\n",
    "num_steps = 5  # Number of forecast steps\n",
    "num_stocks = 3  # Number of stocks\n",
    "returns_matrix = np.random.rand(num_steps, num_stocks)  # Replace with your mean forecast matrix\n",
    "variances_matrix = np.random.rand(num_steps, num_stocks)  # Replace with your variance forecast matrix\n",
    "cov_matrices = np.array([np.diag(variances) for variances in variances_matrix])  # Assuming independent stocks for simplicity\n",
    "max_variance = 0.2  # Replace with your specific constraint on variance\n",
    "\n",
    "optimal_weights_matrix = optimize_weights_for_forecast_steps(returns_matrix, cov_matrices, max_variance)\n",
    "\n",
    "print(\"Optimal Weights Matrix:\")\n",
    "print(optimal_weights_matrix)\n"
   ]
  },
  {
   "cell_type": "code",
   "execution_count": 43,
   "id": "fd28dfdb",
   "metadata": {},
   "outputs": [
    {
     "data": {
      "text/plain": [
       "array([1., 1., 1., 1., 1.])"
      ]
     },
     "execution_count": 43,
     "metadata": {},
     "output_type": "execute_result"
    }
   ],
   "source": [
    "optimal_weights_matrix.sum(axis=1)"
   ]
  },
  {
   "cell_type": "code",
   "execution_count": 46,
   "id": "e54bb3aa",
   "metadata": {},
   "outputs": [
    {
     "name": "stdout",
     "output_type": "stream",
     "text": [
      "Optimal Weights: [0.46239913 0.49318054 0.04442033]\n"
     ]
    }
   ],
   "source": [
    "import numpy as np\n",
    "from scipy.optimize import minimize\n",
    "\n",
    "def objective(weights, returns, cov_matrix):\n",
    "    portfolio_return = np.dot(returns, weights)\n",
    "    portfolio_volatility = np.sqrt(np.dot(weights.T, np.dot(cov_matrix, weights)))\n",
    "    sharpe_ratio = -portfolio_return / portfolio_volatility  # Minimize the negative Sharpe ratio\n",
    "    return sharpe_ratio\n",
    "\n",
    "def optimize_portfolio(returns, cov_matrix, max_variance):\n",
    "    num_stocks = len(returns)\n",
    "\n",
    "    # Constraint: weights sum to 1\n",
    "    constraints = ({'type': 'eq', 'fun': lambda weights: np.sum(weights) - 1},\n",
    "                   {'type': 'ineq', 'fun': lambda weights: max_variance - np.dot(weights.T, np.dot(cov_matrix, weights))})\n",
    "\n",
    "    # Initial guess: Equal weights\n",
    "    initial_weights = np.ones(num_stocks) / num_stocks\n",
    "\n",
    "    # Minimize the negative Sharpe ratio\n",
    "    result = minimize(objective, initial_weights, args=(returns, cov_matrix), method='SLSQP', constraints=constraints)\n",
    "\n",
    "    optimal_weights = result.x\n",
    "\n",
    "    return optimal_weights\n",
    "\n",
    "# Example usage\n",
    "num_stocks = 3\n",
    "returns = np.array([0.5, 0.8, 0.12])  # Replace with your mean forecast for each stock\n",
    "variances = np.array([0.02, 0.03, 0.05])  # Replace with your variance forecast for each stock\n",
    "cov_matrix = np.diag(variances)  # Assuming independent stocks for simplicity\n",
    "max_variance = 0.1  # Replace with your specific constraint on variance\n",
    "\n",
    "optimal_weights = optimize_portfolio(returns, cov_matrix, max_variance)\n",
    "\n",
    "print(\"Optimal Weights:\", optimal_weights)\n"
   ]
  },
  {
   "cell_type": "code",
   "execution_count": 47,
   "id": "55ca8c41",
   "metadata": {},
   "outputs": [
    {
     "data": {
      "text/plain": [
       "1.0"
      ]
     },
     "execution_count": 47,
     "metadata": {},
     "output_type": "execute_result"
    }
   ],
   "source": [
    "optimal_weights.sum()"
   ]
  },
  {
   "cell_type": "code",
   "execution_count": null,
   "id": "5ca8926c",
   "metadata": {},
   "outputs": [],
   "source": [
    "import cvxpy as cp\n",
    "import numpy as np\n",
    "\n",
    "def optimize_weights_for_forecast_steps(returns_matrix, cov_matrices, max_variance):\n",
    "    num_steps, num_stocks = returns_matrix.shape\n",
    "    optimal_weights_matrix = np.zeros((num_steps, num_stocks))\n",
    "\n",
    "    for step in range(num_steps):\n",
    "        returns = returns_matrix[step, :]\n",
    "        cov_matrix = cov_matrices[step, :, :]\n",
    "\n",
    "        # Define the variables\n",
    "        weights = cp.Variable(num_stocks)\n",
    "\n",
    "        # Define the objective function (negative because cvxpy minimizes)\n",
    "        objective = cp.Maximize(-cp.sum(cp.multiply(returns, weights)))\n",
    "\n",
    "        # Define the constraints\n",
    "        constraints = [\n",
    "            cp.sum(weights) == 1,\n",
    "            weights >= 0,\n",
    "            cp.quad_form(weights, cov_matrix) <= max_variance  # You can replace max_variance with your specific constraint\n",
    "        ]\n",
    "\n",
    "        # Formulate the problem\n",
    "        problem = cp.Problem(objective, constraints)\n",
    "\n",
    "        # Solve the problem with error handling\n",
    "        try:\n",
    "            problem.solve()\n",
    "            optimal_weights_matrix[step, :] = weights.value\n",
    "        except cp.error.SolverError:\n",
    "            print(f\"Optimization failed for step {step}. Check data or adjust constraints.\")\n",
    "            optimal_weights_matrix[step, :] = np.nan\n",
    "\n",
    "    return optimal_weights_matrix\n",
    "\n",
    "# Example usage\n",
    "num_steps = 5  # Number of forecast steps\n",
    "num_stocks = 3  # Number of stocks\n",
    "returns_matrix = np.random.rand(num_steps, num_stocks)  # Replace with your mean forecast matrix\n",
    "variances_matrix = np.random.rand(num_steps, num_stocks)  # Replace with your variance forecast matrix\n",
    "cov_matrices = np.array([np.diag(variances) for variances in variances_matrix])  # Assuming independent stocks for simplicity\n",
    "max_variance = 0.2  # Replace with your specific constraint on variance\n",
    "\n",
    "optimal_weights_matrix = optimize_weights_for_forecast_steps(returns_matrix, cov_matrices, max_variance)\n",
    "\n",
    "print(\"Optimal Weights Matrix:\")\n",
    "print(optimal_weights_matrix)\n",
    "\n",
    "\n",
    "optimal_weights_matrix.sum(axis=1)\n",
    "\n",
    "import numpy as np\n",
    "from scipy.optimize import minimize\n",
    "\n",
    "def objective(weights, returns, cov_matrix):\n",
    "    portfolio_return = np.dot(returns, weights)\n",
    "    portfolio_volatility = np.sqrt(np.dot(weights.T, np.dot(cov_matrix, weights)))\n",
    "    sharpe_ratio = -portfolio_return / portfolio_volatility  # Minimize the negative Sharpe ratio\n",
    "    return sharpe_ratio\n",
    "\n",
    "def optimize_portfolio(returns, cov_matrix, max_variance):\n",
    "    num_stocks = len(returns)\n",
    "\n",
    "    # Constraint: weights sum to 1\n",
    "    constraints = ({'type': 'eq', 'fun': lambda weights: np.sum(weights) - 1},\n",
    "                   {'type': 'ineq', 'fun': lambda weights: max_variance - np.dot(weights.T, np.dot(cov_matrix, weights))})\n",
    "\n",
    "    # Initial guess: Equal weights\n",
    "    initial_weights = np.ones(num_stocks) / num_stocks\n",
    "\n",
    "    # Minimize the negative Sharpe ratio\n",
    "    result = minimize(objective, initial_weights, args=(returns, cov_matrix), method='SLSQP', constraints=constraints)\n",
    "\n",
    "    optimal_weights = result.x\n",
    "\n",
    "    return optimal_weights\n",
    "\n",
    "# Example usage\n",
    "num_stocks = 3\n",
    "returns = np.array([0.5, 0.8, 0.12])  # Replace with your mean forecast for each stock\n",
    "variances = np.array([0.02, 0.03, 0.05])  # Replace with your variance forecast for each stock\n",
    "cov_matrix = np.diag(variances)  # Assuming independent stocks for simplicity\n",
    "max_variance = 0.1  # Replace with your specific constraint on variance\n",
    "\n",
    "optimal_weights = optimize_portfolio(returns, cov_matrix, max_variance)\n",
    "\n",
    "print(\"Optimal Weights:\", optimal_weights)\n",
    "\n",
    "\n",
    "optimal_weights.sum()"
   ]
  }
 ],
 "metadata": {
  "kernelspec": {
   "display_name": "cmse_831",
   "language": "python",
   "name": "myenv"
  },
  "language_info": {
   "codemirror_mode": {
    "name": "ipython",
    "version": 3
   },
   "file_extension": ".py",
   "mimetype": "text/x-python",
   "name": "python",
   "nbconvert_exporter": "python",
   "pygments_lexer": "ipython3",
   "version": "3.10.13"
  }
 },
 "nbformat": 4,
 "nbformat_minor": 5
}
