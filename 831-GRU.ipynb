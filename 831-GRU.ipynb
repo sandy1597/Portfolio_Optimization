{
 "cells": [
  {
   "cell_type": "code",
   "execution_count": 4,
   "metadata": {
    "colab": {
     "base_uri": "https://localhost:8080/"
    },
    "executionInfo": {
     "elapsed": 7546,
     "status": "ok",
     "timestamp": 1699970547636,
     "user": {
      "displayName": "sandeep vemulapalli",
      "userId": "17779031720343482504"
     },
     "user_tz": 300
    },
    "id": "OKWXhCNAI5y9",
    "outputId": "e408c807-e523-4d5e-a750-63742bdc42ab"
   },
   "outputs": [
    {
     "name": "stdout",
     "output_type": "stream",
     "text": [
      "Collecting yfinance\n",
      "  Downloading yfinance-0.2.32-py2.py3-none-any.whl (68 kB)\n",
      "\u001b[2K     \u001b[90m━━━━━━━━━━━━━━━━━━━━━━━━━━━━━━━━━━━━━━━━\u001b[0m \u001b[32m69.0/69.0 kB\u001b[0m \u001b[31m4.0 MB/s\u001b[0m eta \u001b[36m0:00:00\u001b[0m\n",
      "\u001b[?25hRequirement already satisfied: numpy>=1.16.5 in /Users/sandeepvemulapalli/opt/anaconda3/lib/python3.9/site-packages (from yfinance) (1.20.0)\n",
      "Collecting pytz>=2022.5\n",
      "  Downloading pytz-2023.3.post1-py2.py3-none-any.whl (502 kB)\n",
      "\u001b[2K     \u001b[90m━━━━━━━━━━━━━━━━━━━━━━━━━━━━━━━━━━━━━━\u001b[0m \u001b[32m502.5/502.5 kB\u001b[0m \u001b[31m11.7 MB/s\u001b[0m eta \u001b[36m0:00:00\u001b[0m00:01\u001b[0m\n",
      "\u001b[?25hCollecting peewee>=3.16.2\n",
      "  Downloading peewee-3.17.0.tar.gz (2.9 MB)\n",
      "\u001b[2K     \u001b[90m━━━━━━━━━━━━━━━━━━━━━━━━━━━━━━━━━━━━━━━━\u001b[0m \u001b[32m2.9/2.9 MB\u001b[0m \u001b[31m2.8 MB/s\u001b[0m eta \u001b[36m0:00:00\u001b[0m00:01\u001b[0m00:01\u001b[0mm\n",
      "\u001b[?25h  Installing build dependencies ... \u001b[?25ldone\n",
      "\u001b[?25h  Getting requirements to build wheel ... \u001b[?25ldone\n",
      "\u001b[?25h  Preparing metadata (pyproject.toml) ... \u001b[?25ldone\n",
      "\u001b[?25hRequirement already satisfied: pandas>=1.3.0 in /Users/sandeepvemulapalli/opt/anaconda3/lib/python3.9/site-packages (from yfinance) (1.4.4)\n",
      "Collecting requests>=2.31\n",
      "  Downloading requests-2.31.0-py3-none-any.whl (62 kB)\n",
      "\u001b[2K     \u001b[90m━━━━━━━━━━━━━━━━━━━━━━━━━━━━━━━━━━━━━━━━\u001b[0m \u001b[32m62.6/62.6 kB\u001b[0m \u001b[31m5.0 MB/s\u001b[0m eta \u001b[36m0:00:00\u001b[0m\n",
      "\u001b[?25hRequirement already satisfied: lxml>=4.9.1 in /Users/sandeepvemulapalli/opt/anaconda3/lib/python3.9/site-packages (from yfinance) (4.9.1)\n",
      "Requirement already satisfied: appdirs>=1.4.4 in /Users/sandeepvemulapalli/opt/anaconda3/lib/python3.9/site-packages (from yfinance) (1.4.4)\n",
      "Collecting frozendict>=2.3.4\n",
      "  Downloading frozendict-2.3.8-cp39-cp39-macosx_10_9_x86_64.whl (36 kB)\n",
      "Requirement already satisfied: beautifulsoup4>=4.11.1 in /Users/sandeepvemulapalli/opt/anaconda3/lib/python3.9/site-packages (from yfinance) (4.11.1)\n",
      "Collecting html5lib>=1.1\n",
      "  Downloading html5lib-1.1-py2.py3-none-any.whl (112 kB)\n",
      "\u001b[2K     \u001b[90m━━━━━━━━━━━━━━━━━━━━━━━━━━━━━━━━━━━━━━━\u001b[0m \u001b[32m112.2/112.2 kB\u001b[0m \u001b[31m9.4 MB/s\u001b[0m eta \u001b[36m0:00:00\u001b[0m\n",
      "\u001b[?25hCollecting multitasking>=0.0.7\n",
      "  Downloading multitasking-0.0.11-py3-none-any.whl (8.5 kB)\n",
      "Requirement already satisfied: soupsieve>1.2 in /Users/sandeepvemulapalli/opt/anaconda3/lib/python3.9/site-packages (from beautifulsoup4>=4.11.1->yfinance) (2.3.1)\n",
      "Requirement already satisfied: six>=1.9 in /Users/sandeepvemulapalli/opt/anaconda3/lib/python3.9/site-packages (from html5lib>=1.1->yfinance) (1.16.0)\n",
      "Requirement already satisfied: webencodings in /Users/sandeepvemulapalli/opt/anaconda3/lib/python3.9/site-packages (from html5lib>=1.1->yfinance) (0.5.1)\n",
      "Requirement already satisfied: python-dateutil>=2.8.1 in /Users/sandeepvemulapalli/opt/anaconda3/lib/python3.9/site-packages (from pandas>=1.3.0->yfinance) (2.8.2)\n",
      "Requirement already satisfied: urllib3<3,>=1.21.1 in /Users/sandeepvemulapalli/opt/anaconda3/lib/python3.9/site-packages (from requests>=2.31->yfinance) (1.26.11)\n",
      "Requirement already satisfied: certifi>=2017.4.17 in /Users/sandeepvemulapalli/opt/anaconda3/lib/python3.9/site-packages (from requests>=2.31->yfinance) (2022.9.24)\n",
      "Requirement already satisfied: charset-normalizer<4,>=2 in /Users/sandeepvemulapalli/opt/anaconda3/lib/python3.9/site-packages (from requests>=2.31->yfinance) (2.0.4)\n",
      "Requirement already satisfied: idna<4,>=2.5 in /Users/sandeepvemulapalli/opt/anaconda3/lib/python3.9/site-packages (from requests>=2.31->yfinance) (3.3)\n",
      "Building wheels for collected packages: peewee\n",
      "  Building wheel for peewee (pyproject.toml) ... \u001b[?25ldone\n",
      "\u001b[?25h  Created wheel for peewee: filename=peewee-3.17.0-cp39-cp39-macosx_10_9_x86_64.whl size=251759 sha256=7968c37b6a889bc0e70ae868928e1aec16e6eb73bba4bd2acaac090ab04f36fb\n",
      "  Stored in directory: /Users/sandeepvemulapalli/Library/Caches/pip/wheels/77/6b/dc/722aee2a5d46a021ab67564c9d3d5536c3bd9577fcdc3a5aeb\n",
      "Successfully built peewee\n",
      "Installing collected packages: pytz, peewee, multitasking, requests, html5lib, frozendict, yfinance\n",
      "  Attempting uninstall: pytz\n",
      "    Found existing installation: pytz 2022.1\n",
      "    Uninstalling pytz-2022.1:\n",
      "      Successfully uninstalled pytz-2022.1\n",
      "  Attempting uninstall: requests\n",
      "    Found existing installation: requests 2.28.1\n",
      "    Uninstalling requests-2.28.1:\n",
      "      Successfully uninstalled requests-2.28.1\n",
      "\u001b[31mERROR: pip's dependency resolver does not currently take into account all the packages that are installed. This behaviour is the source of the following dependency conflicts.\n",
      "ydata-profiling 4.1.0 requires requests<2.29,>=2.24.0, but you have requests 2.31.0 which is incompatible.\n",
      "conda-repo-cli 1.0.20 requires clyent==1.2.1, but you have clyent 1.2.2 which is incompatible.\n",
      "conda-repo-cli 1.0.20 requires nbformat==5.4.0, but you have nbformat 5.5.0 which is incompatible.\n",
      "conda-repo-cli 1.0.20 requires PyYAML==6.0, but you have pyyaml 5.4.1 which is incompatible.\n",
      "conda-repo-cli 1.0.20 requires requests==2.28.1, but you have requests 2.31.0 which is incompatible.\u001b[0m\u001b[31m\n",
      "\u001b[0mSuccessfully installed frozendict-2.3.8 html5lib-1.1 multitasking-0.0.11 peewee-3.17.0 pytz-2023.3.post1 requests-2.31.0 yfinance-0.2.32\n"
     ]
    }
   ],
   "source": [
    "!pip install yfinance"
   ]
  },
  {
   "cell_type": "code",
   "execution_count": null,
   "metadata": {
    "colab": {
     "base_uri": "https://localhost:8080/"
    },
    "executionInfo": {
     "elapsed": 10838,
     "status": "ok",
     "timestamp": 1700058547911,
     "user": {
      "displayName": "sandeep vemulapalli",
      "userId": "17779031720343482504"
     },
     "user_tz": 300
    },
    "id": "9_A0XRcUI8-B",
    "outputId": "6c6e65bd-9d7e-493c-db2b-d02373f18895"
   },
   "outputs": [],
   "source": [
    "import numpy as np\n",
    "import pandas as pd\n",
    "import yfinance as yf\n",
    "from tensorflow.keras.models import Sequential\n",
    "from tensorflow.keras.layers import GRU, Dense, Activation\n",
    "from sklearn.preprocessing import MinMaxScaler\n",
    "\n",
    "\n",
    "# Define a list of stock tickers\n",
    "tickers = ['VTI', 'AGG', 'DBC', 'VIX']\n",
    "\n",
    "# Fetch historical data from Yahoo Finance\n",
    "data = yf.download(tickers, start=\"2006-01-01\", end=\"2019-04-30\")['Adj Close']\n",
    "\n",
    "# Calculate daily returns\n",
    "returns = data.pct_change().dropna()\n",
    "\n",
    "# Define a lookback window for input features\n",
    "lookback_window = 15"
   ]
  },
  {
   "cell_type": "code",
   "execution_count": 17,
   "metadata": {
    "executionInfo": {
     "elapsed": 4,
     "status": "ok",
     "timestamp": 1700062699570,
     "user": {
      "displayName": "sandeep vemulapalli",
      "userId": "17779031720343482504"
     },
     "user_tz": 300
    },
    "id": "D4le8KRMnuUh"
   },
   "outputs": [],
   "source": []
  },
  {
   "cell_type": "code",
   "execution_count": null,
   "metadata": {
    "id": "k5545DO6oUJj"
   },
   "outputs": [],
   "source": [
    "model_gru = Sequential()\n",
    "model_gru.add(GRU(units=64, input_shape=(lookback_window, len(tickers))))\n",
    "model_gru.add(Dense(len(tickers)))\n",
    "model_gru.add(Activation('softmax'))"
   ]
  },
  {
   "cell_type": "code",
   "execution_count": 3,
   "metadata": {
    "executionInfo": {
     "elapsed": 4,
     "status": "ok",
     "timestamp": 1700058583167,
     "user": {
      "displayName": "sandeep vemulapalli",
      "userId": "17779031720343482504"
     },
     "user_tz": 300
    },
    "id": "YFP3w0s2YyCS"
   },
   "outputs": [],
   "source": [
    "model_gru.compile(optimizer='adam', loss='mean_squared_error')"
   ]
  },
  {
   "cell_type": "code",
   "execution_count": 4,
   "metadata": {
    "executionInfo": {
     "elapsed": 4,
     "status": "ok",
     "timestamp": 1700058607022,
     "user": {
      "displayName": "sandeep vemulapalli",
      "userId": "17779031720343482504"
     },
     "user_tz": 300
    },
    "id": "6tdW1xETY0xf"
   },
   "outputs": [],
   "source": [
    "X_gru, y_gru = create_gru_dataset(returns, lookback_window)\n",
    "\n",
    "# Split the dataset into training and testing sets\n",
    "train_size = int(len(X_gru) * 0.65)\n",
    "X_train_gru, X_test_gru = X_gru[:train_size], X_gru[train_size:]\n",
    "y_train_gru, y_test_gru = y_gru[:train_size], y_gru[train_size:]"
   ]
  },
  {
   "cell_type": "code",
   "execution_count": 5,
   "metadata": {
    "colab": {
     "base_uri": "https://localhost:8080/"
    },
    "executionInfo": {
     "elapsed": 86014,
     "status": "ok",
     "timestamp": 1700058702334,
     "user": {
      "displayName": "sandeep vemulapalli",
      "userId": "17779031720343482504"
     },
     "user_tz": 300
    },
    "id": "Wm_PHQKmY6oi",
    "outputId": "7eb59dd2-0e2c-43e9-ad5e-148f566da737"
   },
   "outputs": [
    {
     "name": "stdout",
     "output_type": "stream",
     "text": [
      "Epoch 1/50\n",
      "27/27 [==============================] - 5s 45ms/step - loss: 0.0628 - val_loss: 0.0625\n",
      "Epoch 2/50\n",
      "27/27 [==============================] - 1s 27ms/step - loss: 0.0628 - val_loss: 0.0625\n",
      "Epoch 3/50\n",
      "27/27 [==============================] - 1s 28ms/step - loss: 0.0628 - val_loss: 0.0625\n",
      "Epoch 4/50\n",
      "27/27 [==============================] - 1s 27ms/step - loss: 0.0628 - val_loss: 0.0625\n",
      "Epoch 5/50\n",
      "27/27 [==============================] - 1s 30ms/step - loss: 0.0628 - val_loss: 0.0625\n",
      "Epoch 6/50\n",
      "27/27 [==============================] - 1s 29ms/step - loss: 0.0628 - val_loss: 0.0625\n",
      "Epoch 7/50\n",
      "27/27 [==============================] - 1s 27ms/step - loss: 0.0628 - val_loss: 0.0625\n",
      "Epoch 8/50\n",
      "27/27 [==============================] - 1s 28ms/step - loss: 0.0628 - val_loss: 0.0625\n",
      "Epoch 9/50\n",
      "27/27 [==============================] - 1s 27ms/step - loss: 0.0628 - val_loss: 0.0625\n",
      "Epoch 10/50\n",
      "27/27 [==============================] - 1s 27ms/step - loss: 0.0628 - val_loss: 0.0625\n",
      "Epoch 11/50\n",
      "27/27 [==============================] - 1s 27ms/step - loss: 0.0628 - val_loss: 0.0625\n",
      "Epoch 12/50\n",
      "27/27 [==============================] - 1s 39ms/step - loss: 0.0628 - val_loss: 0.0625\n",
      "Epoch 13/50\n",
      "27/27 [==============================] - 1s 43ms/step - loss: 0.0628 - val_loss: 0.0625\n",
      "Epoch 14/50\n",
      "27/27 [==============================] - 1s 47ms/step - loss: 0.0628 - val_loss: 0.0625\n",
      "Epoch 15/50\n",
      "27/27 [==============================] - 1s 46ms/step - loss: 0.0628 - val_loss: 0.0625\n",
      "Epoch 16/50\n",
      "27/27 [==============================] - 1s 29ms/step - loss: 0.0628 - val_loss: 0.0625\n",
      "Epoch 17/50\n",
      "27/27 [==============================] - 1s 27ms/step - loss: 0.0628 - val_loss: 0.0625\n",
      "Epoch 18/50\n",
      "27/27 [==============================] - 1s 28ms/step - loss: 0.0628 - val_loss: 0.0625\n",
      "Epoch 19/50\n",
      "27/27 [==============================] - 1s 27ms/step - loss: 0.0628 - val_loss: 0.0625\n",
      "Epoch 20/50\n",
      "27/27 [==============================] - 1s 27ms/step - loss: 0.0628 - val_loss: 0.0625\n",
      "Epoch 21/50\n",
      "27/27 [==============================] - 1s 28ms/step - loss: 0.0628 - val_loss: 0.0625\n",
      "Epoch 22/50\n",
      "27/27 [==============================] - 1s 27ms/step - loss: 0.0628 - val_loss: 0.0625\n",
      "Epoch 23/50\n",
      "27/27 [==============================] - 1s 28ms/step - loss: 0.0628 - val_loss: 0.0625\n",
      "Epoch 24/50\n",
      "27/27 [==============================] - 1s 26ms/step - loss: 0.0628 - val_loss: 0.0625\n",
      "Epoch 25/50\n",
      "27/27 [==============================] - 1s 28ms/step - loss: 0.0628 - val_loss: 0.0625\n",
      "Epoch 26/50\n",
      "27/27 [==============================] - 1s 27ms/step - loss: 0.0628 - val_loss: 0.0625\n",
      "Epoch 27/50\n",
      "27/27 [==============================] - 1s 27ms/step - loss: 0.0628 - val_loss: 0.0625\n",
      "Epoch 28/50\n",
      "27/27 [==============================] - 1s 28ms/step - loss: 0.0628 - val_loss: 0.0625\n",
      "Epoch 29/50\n",
      "27/27 [==============================] - 1s 32ms/step - loss: 0.0628 - val_loss: 0.0625\n",
      "Epoch 30/50\n",
      "27/27 [==============================] - 1s 44ms/step - loss: 0.0628 - val_loss: 0.0625\n",
      "Epoch 31/50\n",
      "27/27 [==============================] - 1s 43ms/step - loss: 0.0628 - val_loss: 0.0625\n",
      "Epoch 32/50\n",
      "27/27 [==============================] - 1s 46ms/step - loss: 0.0628 - val_loss: 0.0625\n",
      "Epoch 33/50\n",
      "27/27 [==============================] - 1s 39ms/step - loss: 0.0628 - val_loss: 0.0625\n",
      "Epoch 34/50\n",
      "27/27 [==============================] - 1s 27ms/step - loss: 0.0628 - val_loss: 0.0625\n",
      "Epoch 35/50\n",
      "27/27 [==============================] - 1s 27ms/step - loss: 0.0628 - val_loss: 0.0625\n",
      "Epoch 36/50\n",
      "27/27 [==============================] - 1s 27ms/step - loss: 0.0628 - val_loss: 0.0625\n",
      "Epoch 37/50\n",
      "27/27 [==============================] - 1s 26ms/step - loss: 0.0628 - val_loss: 0.0625\n",
      "Epoch 38/50\n",
      "27/27 [==============================] - 1s 26ms/step - loss: 0.0628 - val_loss: 0.0625\n",
      "Epoch 39/50\n",
      "27/27 [==============================] - 1s 27ms/step - loss: 0.0628 - val_loss: 0.0625\n",
      "Epoch 40/50\n",
      "27/27 [==============================] - 1s 28ms/step - loss: 0.0628 - val_loss: 0.0625\n",
      "Epoch 41/50\n",
      "27/27 [==============================] - 1s 27ms/step - loss: 0.0628 - val_loss: 0.0625\n",
      "Epoch 42/50\n",
      "27/27 [==============================] - 1s 28ms/step - loss: 0.0628 - val_loss: 0.0625\n",
      "Epoch 43/50\n",
      "27/27 [==============================] - 1s 27ms/step - loss: 0.0628 - val_loss: 0.0625\n",
      "Epoch 44/50\n",
      "27/27 [==============================] - 1s 27ms/step - loss: 0.0628 - val_loss: 0.0625\n",
      "Epoch 45/50\n",
      "27/27 [==============================] - 1s 28ms/step - loss: 0.0628 - val_loss: 0.0625\n",
      "Epoch 46/50\n",
      "27/27 [==============================] - 1s 28ms/step - loss: 0.0628 - val_loss: 0.0625\n",
      "Epoch 47/50\n",
      "27/27 [==============================] - 1s 40ms/step - loss: 0.0628 - val_loss: 0.0625\n",
      "Epoch 48/50\n",
      "27/27 [==============================] - 1s 42ms/step - loss: 0.0628 - val_loss: 0.0625\n",
      "Epoch 49/50\n",
      "27/27 [==============================] - 1s 45ms/step - loss: 0.0628 - val_loss: 0.0625\n",
      "Epoch 50/50\n",
      "27/27 [==============================] - 1s 42ms/step - loss: 0.0628 - val_loss: 0.0625\n"
     ]
    },
    {
     "data": {
      "text/plain": [
       "<keras.src.callbacks.History at 0x7b13aa6ea170>"
      ]
     },
     "execution_count": 5,
     "metadata": {},
     "output_type": "execute_result"
    }
   ],
   "source": [
    "model_gru.fit(X_train_gru, y_train_gru, epochs=50, batch_size=32, validation_data=(X_test_gru, y_test_gru))"
   ]
  },
  {
   "cell_type": "code",
   "execution_count": 7,
   "metadata": {
    "executionInfo": {
     "elapsed": 444,
     "status": "ok",
     "timestamp": 1700058766169,
     "user": {
      "displayName": "sandeep vemulapalli",
      "userId": "17779031720343482504"
     },
     "user_tz": 300
    },
    "id": "9qEOeyRkY869"
   },
   "outputs": [],
   "source": [
    "import cvxpy as cp\n",
    "\n",
    "expected_returns = returns.mean().values  # Convert to numpy array\n",
    "cov_matrix = returns.cov().values  # Convert to numpy array\n",
    "\n",
    "# Ensure that 'weights' is a column vector with the same number of rows as there are assets\n",
    "weights = cp.Variable(expected_returns.shape[0])\n",
    "\n",
    "# Define the optimization problem\n",
    "risk_free_rate = 0.01  # Example risk-free rate\n",
    "objective = cp.Maximize(expected_returns.T @ weights - risk_free_rate * cp.quad_form(weights, cov_matrix))\n",
    "constraints = [cp.sum(weights) == 1, weights >= 0]\n",
    "\n",
    "# Solve the problem\n",
    "problem = cp.Problem(objective, constraints)\n",
    "problem.solve()\n",
    "\n",
    "# Get the optimal weights\n",
    "optimal_weights_mpt = weights.value"
   ]
  },
  {
   "cell_type": "code",
   "execution_count": 11,
   "metadata": {
    "colab": {
     "base_uri": "https://localhost:8080/"
    },
    "executionInfo": {
     "elapsed": 1203,
     "status": "ok",
     "timestamp": 1700059055388,
     "user": {
      "displayName": "sandeep vemulapalli",
      "userId": "17779031720343482504"
     },
     "user_tz": 300
    },
    "id": "ILZdrLZQZbgr",
    "outputId": "605d43c6-c9b8-4750-bb74-a9c3f7cc826e"
   },
   "outputs": [
    {
     "name": "stdout",
     "output_type": "stream",
     "text": [
      "7/7 [==============================] - 0s 17ms/step\n",
      "Sharpe Ratio GRU: -0.07806621177791913\n",
      "Sharpe Ratio MPT: 0.7906344131662963\n"
     ]
    }
   ],
   "source": [
    "def calculate_sharpe_ratio(returns, weights, risk_free_rate=0.0):\n",
    "    expected_portfolio_return = np.sum(returns.mean() * weights) * 252  # Annualize the return\n",
    "    portfolio_std_dev = np.sqrt(np.dot(weights.T, np.dot(returns.cov() * 252, weights)))  # Annualize the std dev\n",
    "    sharpe_ratio = (expected_portfolio_return - risk_free_rate) / portfolio_std_dev\n",
    "    return sharpe_ratio\n",
    "\n",
    "# Calculate Sharpe ratio for the MPT portfolio\n",
    "sharpe_ratio_mpt = calculate_sharpe_ratio(returns, optimal_weights_mpt)\n",
    "\n",
    "\n",
    "predicted_weights_gru = model_gru.predict(X_test_gru)\n",
    "\n",
    "sharpe_ratio_gru = calculate_sharpe_ratio(returns, predicted_weights_gru.mean(axis=0))\n",
    "\n",
    "# Print the Sharpe ratio for the GRU portfolio\n",
    "print(f'Sharpe Ratio GRU: {sharpe_ratio_gru}')\n",
    "\n",
    "# Print the Sharpe ratio for the MPT portfolio\n",
    "print(f'Sharpe Ratio MPT: {sharpe_ratio_mpt}')"
   ]
  },
  {
   "cell_type": "code",
   "execution_count": 15,
   "metadata": {
    "executionInfo": {
     "elapsed": 319,
     "status": "ok",
     "timestamp": 1700059292213,
     "user": {
      "displayName": "sandeep vemulapalli",
      "userId": "17779031720343482504"
     },
     "user_tz": 300
    },
    "id": "l8ZEhf6NZtLN"
   },
   "outputs": [],
   "source": [
    "def simulate_portfolio_performance(weights, initial_investment, returns):\n",
    "    # Calculate daily portfolio returns\n",
    "    daily_returns = (weights * returns).sum(axis=1)\n",
    "\n",
    "    # Calculate cumulative returns\n",
    "    cumulative_returns = (1 + daily_returns).cumprod()\n",
    "\n",
    "    # Calculate portfolio value over time\n",
    "    portfolio_values = initial_investment * cumulative_returns\n",
    "    return portfolio_values\n",
    "\n",
    "\n",
    "initial_investment = 10000\n",
    "\n",
    "# Simulate LSTM portfolio performance\n",
    "gru_portfolio_values = simulate_portfolio_performance(predicted_weights_gru.mean(axis=0), initial_investment, returns.iloc[train_size:])\n",
    "\n",
    "# Simulate MPT portfolio performance\n",
    "mpt_portfolio_values = simulate_portfolio_performance(optimal_weights_mpt, initial_investment, returns.iloc[train_size:])"
   ]
  },
  {
   "cell_type": "code",
   "execution_count": 16,
   "metadata": {
    "colab": {
     "base_uri": "https://localhost:8080/",
     "height": 661
    },
    "executionInfo": {
     "elapsed": 440,
     "status": "ok",
     "timestamp": 1700059298300,
     "user": {
      "displayName": "sandeep vemulapalli",
      "userId": "17779031720343482504"
     },
     "user_tz": 300
    },
    "id": "hrlgwJtYbAAw",
    "outputId": "2db28f9c-ade0-4c3a-f199-26064931d56b"
   },
   "outputs": [
    {
     "data": {
      "image/png": "[encoded data removed]",
      "text/plain": [
       "<Figure size 1400x700 with 1 Axes>"
      ]
     },
     "metadata": {},
     "output_type": "display_data"
    }
   ],
   "source": [
    "import matplotlib.pyplot as plt\n",
    "\n",
    "# Plot the portfolio values over time\n",
    "plt.figure(figsize=(14, 7))\n",
    "plt.plot(gru_portfolio_values.index, gru_portfolio_values, label='GRU Model')\n",
    "plt.plot(mpt_portfolio_values.index, mpt_portfolio_values, label='MPT Optimization')\n",
    "\n",
    "# Add labels and title\n",
    "plt.xlabel('Date')\n",
    "plt.ylabel('Portfolio Value ($)')\n",
    "plt.title('Portfolio Performance Comparison (GRU vs. MPT)')\n",
    "plt.legend()\n",
    "\n",
    "# Show the plot\n",
    "plt.show()\n"
   ]
  },
  {
   "cell_type": "code",
   "execution_count": 19,
   "metadata": {
    "colab": {
     "base_uri": "https://localhost:8080/"
    },
    "executionInfo": {
     "elapsed": 6604,
     "status": "ok",
     "timestamp": 1700062850237,
     "user": {
      "displayName": "sandeep vemulapalli",
      "userId": "17779031720343482504"
     },
     "user_tz": 300
    },
    "id": "7l4UiXa3pDDJ",
    "outputId": "4ae99176-ee5d-45c3-e79c-e64c09ba0d55"
   },
   "outputs": [
    {
     "name": "stdout",
     "output_type": "stream",
     "text": [
      "Collecting keras-tuner\n",
      "  Downloading keras_tuner-1.4.6-py3-none-any.whl (128 kB)\n",
      "\u001b[?25l     \u001b[90m━━━━━━━━━━━━━━━━━━━━━━━━━━━━━━━━━━━━━━━━\u001b[0m \u001b[32m0.0/128.9 kB\u001b[0m \u001b[31m?\u001b[0m eta \u001b[36m-:--:--\u001b[0m\r",
      "\u001b[2K     \u001b[91m━━━━━━━━━━━━━━━━━━━━━━━━━\u001b[0m\u001b[90m╺\u001b[0m\u001b[90m━━━━━━━━━━━━━━\u001b[0m \u001b[32m81.9/128.9 kB\u001b[0m \u001b[31m2.5 MB/s\u001b[0m eta \u001b[36m0:00:01\u001b[0m\r",
      "\u001b[2K     \u001b[90m━━━━━━━━━━━━━━━━━━━━━━━━━━━━━━━━━━━━━━━━\u001b[0m \u001b[32m128.9/128.9 kB\u001b[0m \u001b[31m2.8 MB/s\u001b[0m eta \u001b[36m0:00:00\u001b[0m\n",
      "\u001b[?25hRequirement already satisfied: keras in /usr/local/lib/python3.10/dist-packages (from keras-tuner) (2.14.0)\n",
      "Requirement already satisfied: packaging in /usr/local/lib/python3.10/dist-packages (from keras-tuner) (23.2)\n",
      "Requirement already satisfied: requests in /usr/local/lib/python3.10/dist-packages (from keras-tuner) (2.31.0)\n",
      "Collecting kt-legacy (from keras-tuner)\n",
      "  Downloading kt_legacy-1.0.5-py3-none-any.whl (9.6 kB)\n",
      "Requirement already satisfied: charset-normalizer<4,>=2 in /usr/local/lib/python3.10/dist-packages (from requests->keras-tuner) (3.3.2)\n",
      "Requirement already satisfied: idna<4,>=2.5 in /usr/local/lib/python3.10/dist-packages (from requests->keras-tuner) (3.4)\n",
      "Requirement already satisfied: urllib3<3,>=1.21.1 in /usr/local/lib/python3.10/dist-packages (from requests->keras-tuner) (2.0.7)\n",
      "Requirement already satisfied: certifi>=2017.4.17 in /usr/local/lib/python3.10/dist-packages (from requests->keras-tuner) (2023.7.22)\n",
      "Installing collected packages: kt-legacy, keras-tuner\n",
      "Successfully installed keras-tuner-1.4.6 kt-legacy-1.0.5\n"
     ]
    }
   ],
   "source": [
    "!pip install keras-tuner"
   ]
  },
  {
   "cell_type": "code",
   "execution_count": 20,
   "metadata": {
    "colab": {
     "base_uri": "https://localhost:8080/"
    },
    "executionInfo": {
     "elapsed": 1463,
     "status": "ok",
     "timestamp": 1700062854121,
     "user": {
      "displayName": "sandeep vemulapalli",
      "userId": "17779031720343482504"
     },
     "user_tz": 300
    },
    "id": "KJSDimDUbe7Q",
    "outputId": "52f75cd4-97b9-4f39-893a-40273ce4f69d"
   },
   "outputs": [
    {
     "name": "stderr",
     "output_type": "stream",
     "text": [
      "<ipython-input-20-856fc47cb803>:8: DeprecationWarning: `import kerastuner` is deprecated, please use `import keras_tuner`.\n",
      "  from kerastuner.tuners import RandomSearch\n"
     ]
    },
    {
     "name": "stdout",
     "output_type": "stream",
     "text": [
      "[*********************100%%**********************]  4 of 4 completed\n"
     ]
    }
   ],
   "source": [
    "import numpy as np\n",
    "import pandas as pd\n",
    "import yfinance as yf\n",
    "from tensorflow import keras\n",
    "from tensorflow.keras.models import Sequential\n",
    "from tensorflow.keras.layers import GRU, Dense, Activation\n",
    "from tensorflow.keras.optimizers import Adam\n",
    "from kerastuner.tuners import RandomSearch\n",
    "\n",
    "# Define a list of stock tickers\n",
    "tickers = ['VTI', 'AGG', 'DBC', 'VIX']\n",
    "\n",
    "# Fetch historical data from Yahoo Finance\n",
    "data = yf.download(tickers, start=\"2006-01-01\", end=\"2019-04-30\")['Adj Close']\n",
    "\n",
    "# Calculate daily returns\n",
    "returns = data.pct_change().dropna()\n",
    "\n",
    "# Define a lookback window for input features\n",
    "lookback_window = 50\n",
    "\n",
    "# Prepare the dataset for GRU\n",
    "def create_gru_dataset(returns, lookback_window):\n",
    "    X, y = [], []\n",
    "    for i in range(len(returns) - lookback_window):\n",
    "        X.append(returns.iloc[i:(i + lookback_window)].values)\n",
    "        y.append(returns.iloc[i + lookback_window].values)\n",
    "    return np.array(X), np.array(y)\n",
    "\n",
    "\n"
   ]
  },
  {
   "cell_type": "code",
   "execution_count": 21,
   "metadata": {
    "colab": {
     "base_uri": "https://localhost:8080/"
    },
    "executionInfo": {
     "elapsed": 519515,
     "status": "ok",
     "timestamp": 1700063402719,
     "user": {
      "displayName": "sandeep vemulapalli",
      "userId": "17779031720343482504"
     },
     "user_tz": 300
    },
    "id": "K6JpEx3no6UQ",
    "outputId": "60ccd40d-f653-4502-b7cc-f4348d35f105"
   },
   "outputs": [
    {
     "name": "stdout",
     "output_type": "stream",
     "text": [
      "Trial 3 Complete [00h 03m 01s]\n",
      "val_loss: 0.06248925253748894\n",
      "\n",
      "Best val_loss So Far: 0.06248898059129715\n",
      "Total elapsed time: 00h 07m 20s\n",
      "Epoch 1/50\n",
      "27/27 [==============================] - 5s 88ms/step - loss: 0.0628 - val_loss: 0.0625\n",
      "Epoch 2/50\n",
      "27/27 [==============================] - 2s 82ms/step - loss: 0.0628 - val_loss: 0.0625\n",
      "Epoch 3/50\n",
      "27/27 [==============================] - 2s 63ms/step - loss: 0.0628 - val_loss: 0.0625\n",
      "Epoch 4/50\n",
      "27/27 [==============================] - 1s 48ms/step - loss: 0.0628 - val_loss: 0.0625\n",
      "Epoch 5/50\n",
      "27/27 [==============================] - 1s 47ms/step - loss: 0.0628 - val_loss: 0.0625\n",
      "Epoch 6/50\n",
      "27/27 [==============================] - 1s 48ms/step - loss: 0.0628 - val_loss: 0.0625\n",
      "Epoch 7/50\n",
      "27/27 [==============================] - 1s 48ms/step - loss: 0.0628 - val_loss: 0.0625\n",
      "Epoch 8/50\n",
      "27/27 [==============================] - 1s 47ms/step - loss: 0.0628 - val_loss: 0.0625\n",
      "Epoch 9/50\n",
      "27/27 [==============================] - 1s 48ms/step - loss: 0.0628 - val_loss: 0.0625\n",
      "Epoch 10/50\n",
      "27/27 [==============================] - 1s 48ms/step - loss: 0.0628 - val_loss: 0.0625\n",
      "Epoch 11/50\n",
      "27/27 [==============================] - 2s 75ms/step - loss: 0.0628 - val_loss: 0.0625\n",
      "Epoch 12/50\n",
      "27/27 [==============================] - 2s 80ms/step - loss: 0.0628 - val_loss: 0.0625\n",
      "Epoch 13/50\n",
      "27/27 [==============================] - 2s 64ms/step - loss: 0.0628 - val_loss: 0.0625\n",
      "Epoch 14/50\n",
      "27/27 [==============================] - 1s 48ms/step - loss: 0.0628 - val_loss: 0.0625\n",
      "Epoch 15/50\n",
      "27/27 [==============================] - 1s 48ms/step - loss: 0.0628 - val_loss: 0.0625\n",
      "Epoch 16/50\n",
      "27/27 [==============================] - 1s 48ms/step - loss: 0.0628 - val_loss: 0.0625\n",
      "Epoch 17/50\n",
      "27/27 [==============================] - 1s 47ms/step - loss: 0.0628 - val_loss: 0.0625\n",
      "Epoch 18/50\n",
      "27/27 [==============================] - 1s 48ms/step - loss: 0.0628 - val_loss: 0.0625\n",
      "Epoch 19/50\n",
      "27/27 [==============================] - 1s 47ms/step - loss: 0.0628 - val_loss: 0.0625\n",
      "Epoch 20/50\n",
      "27/27 [==============================] - 1s 47ms/step - loss: 0.0628 - val_loss: 0.0625\n",
      "Epoch 21/50\n",
      "27/27 [==============================] - 2s 73ms/step - loss: 0.0628 - val_loss: 0.0625\n",
      "Epoch 22/50\n",
      "27/27 [==============================] - 2s 81ms/step - loss: 0.0628 - val_loss: 0.0625\n",
      "Epoch 23/50\n",
      "27/27 [==============================] - 2s 67ms/step - loss: 0.0628 - val_loss: 0.0625\n",
      "Epoch 24/50\n",
      "27/27 [==============================] - 1s 48ms/step - loss: 0.0628 - val_loss: 0.0625\n",
      "Epoch 25/50\n",
      "27/27 [==============================] - 1s 47ms/step - loss: 0.0628 - val_loss: 0.0625\n",
      "Epoch 26/50\n",
      "27/27 [==============================] - 1s 48ms/step - loss: 0.0628 - val_loss: 0.0625\n",
      "Epoch 27/50\n",
      "27/27 [==============================] - 1s 48ms/step - loss: 0.0628 - val_loss: 0.0625\n",
      "Epoch 28/50\n",
      "27/27 [==============================] - 1s 50ms/step - loss: 0.0628 - val_loss: 0.0625\n",
      "Epoch 29/50\n",
      "27/27 [==============================] - 1s 48ms/step - loss: 0.0628 - val_loss: 0.0625\n",
      "Epoch 30/50\n",
      "27/27 [==============================] - 1s 49ms/step - loss: 0.0628 - val_loss: 0.0625\n",
      "Epoch 31/50\n",
      "27/27 [==============================] - 2s 73ms/step - loss: 0.0628 - val_loss: 0.0625\n",
      "Epoch 32/50\n",
      "27/27 [==============================] - 2s 82ms/step - loss: 0.0628 - val_loss: 0.0625\n",
      "Epoch 33/50\n",
      "27/27 [==============================] - 2s 66ms/step - loss: 0.0628 - val_loss: 0.0625\n",
      "Epoch 34/50\n",
      "27/27 [==============================] - 1s 48ms/step - loss: 0.0628 - val_loss: 0.0625\n",
      "Epoch 35/50\n",
      "27/27 [==============================] - 1s 48ms/step - loss: 0.0628 - val_loss: 0.0625\n",
      "Epoch 36/50\n",
      "27/27 [==============================] - 1s 48ms/step - loss: 0.0628 - val_loss: 0.0625\n",
      "Epoch 37/50\n",
      "27/27 [==============================] - 1s 48ms/step - loss: 0.0628 - val_loss: 0.0625\n",
      "Epoch 38/50\n",
      "27/27 [==============================] - 1s 49ms/step - loss: 0.0628 - val_loss: 0.0625\n",
      "Epoch 39/50\n",
      "27/27 [==============================] - 1s 50ms/step - loss: 0.0628 - val_loss: 0.0625\n",
      "Epoch 40/50\n",
      "27/27 [==============================] - 1s 47ms/step - loss: 0.0628 - val_loss: 0.0625\n",
      "Epoch 41/50\n",
      "27/27 [==============================] - 2s 75ms/step - loss: 0.0628 - val_loss: 0.0625\n",
      "Epoch 42/50\n",
      "27/27 [==============================] - 2s 83ms/step - loss: 0.0628 - val_loss: 0.0625\n",
      "Epoch 43/50\n",
      "27/27 [==============================] - 2s 62ms/step - loss: 0.0628 - val_loss: 0.0625\n",
      "Epoch 44/50\n",
      "27/27 [==============================] - 1s 48ms/step - loss: 0.0628 - val_loss: 0.0625\n",
      "Epoch 45/50\n",
      "27/27 [==============================] - 1s 48ms/step - loss: 0.0628 - val_loss: 0.0625\n",
      "Epoch 46/50\n",
      "27/27 [==============================] - 1s 49ms/step - loss: 0.0628 - val_loss: 0.0625\n",
      "Epoch 47/50\n",
      "27/27 [==============================] - 1s 48ms/step - loss: 0.0628 - val_loss: 0.0625\n",
      "Epoch 48/50\n",
      "27/27 [==============================] - 1s 55ms/step - loss: 0.0628 - val_loss: 0.0625\n",
      "Epoch 49/50\n",
      "27/27 [==============================] - 1s 48ms/step - loss: 0.0628 - val_loss: 0.0625\n",
      "Epoch 50/50\n",
      "27/27 [==============================] - 1s 51ms/step - loss: 0.0628 - val_loss: 0.0625\n"
     ]
    },
    {
     "data": {
      "text/plain": [
       "<keras.src.callbacks.History at 0x7b139f840880>"
      ]
     },
     "execution_count": 21,
     "metadata": {},
     "output_type": "execute_result"
    }
   ],
   "source": [
    "# Create the GRU model\n",
    "def build_gru_model(hp):\n",
    "    model = Sequential()\n",
    "    model.add(GRU(\n",
    "        units=hp.Int('units', min_value=32, max_value=256, step=32),\n",
    "        input_shape=(lookback_window, len(tickers))\n",
    "    ))\n",
    "    model.add(Dense(len(tickers)))\n",
    "    model.add(Activation('softmax'))\n",
    "    model.compile(\n",
    "        optimizer=Adam(learning_rate=hp.Float('learning_rate', min_value=1e-4, max_value=1e-2, sampling='log')),\n",
    "        loss='mean_squared_error'\n",
    "    )\n",
    "    return model\n",
    "\n",
    "# Define the Keras Tuner random search\n",
    "tuner = RandomSearch(\n",
    "    build_gru_model,\n",
    "    objective='val_loss',\n",
    "    max_trials=3,  # Adjust as needed\n",
    "    directory='tuner_dir'  # Change to your desired directory\n",
    ")\n",
    "\n",
    "# Create the GRU dataset\n",
    "X_gru, y_gru = create_gru_dataset(returns, lookback_window)\n",
    "\n",
    "# Split the dataset into training and testing sets\n",
    "train_size = int(len(X_gru) * 0.8)\n",
    "X_train_gru, X_test_gru = X_gru[:train_size], X_gru[train_size:]\n",
    "y_train_gru, y_test_gru = y_gru[:train_size], y_gru[train_size:]\n",
    "\n",
    "# Perform hyperparameter tuning\n",
    "tuner.search(X_train_gru, y_train_gru, epochs=50, validation_data=(X_test_gru, y_test_gru))\n",
    "\n",
    "# Get the best hyperparameters\n",
    "best_hp = tuner.get_best_hyperparameters()[0]\n",
    "\n",
    "# Build the final model with the best hyperparameters\n",
    "best_model = build_gru_model(best_hp)\n",
    "\n",
    "# Train the final model\n",
    "best_model.fit(X_train_gru, y_train_gru, epochs=50, validation_data=(X_test_gru, y_test_gru))"
   ]
  },
  {
   "cell_type": "code",
   "execution_count": 24,
   "metadata": {
    "colab": {
     "base_uri": "https://localhost:8080/"
    },
    "executionInfo": {
     "elapsed": 347,
     "status": "ok",
     "timestamp": 1700063654390,
     "user": {
      "displayName": "sandeep vemulapalli",
      "userId": "17779031720343482504"
     },
     "user_tz": 300
    },
    "id": "mve2H87NpOs_",
    "outputId": "923a4f69-df59-494b-f218-43bab297520c"
   },
   "outputs": [
    {
     "name": "stdout",
     "output_type": "stream",
     "text": [
      "7/7 [==============================] - 0s 13ms/step\n",
      "Sharpe Ratio GRU (Best Model): -0.07956174981333092\n"
     ]
    }
   ],
   "source": [
    "# Calculate Sharpe ratio for the MPT portfolio\n",
    "sharpe_ratio_mpt = calculate_sharpe_ratio(returns, optimal_weights_mpt)\n",
    "\n",
    "\n",
    "# Assuming you have already performed hyperparameter tuning and obtained the best hyperparameters and model (best_model)\n",
    "\n",
    "# Get predictions using the best GRU model\n",
    "predicted_returns_gru = best_model.predict(X_test_gru)\n",
    "\n",
    "# Convert the predicted returns to portfolio weights (e.g., equal weights)\n",
    "\n",
    "sharpe_ratio_gru = calculate_sharpe_ratio(returns, predicted_weights_gru.mean(axis=0))\n",
    "\n",
    "# Print the Sharpe ratio for the best GRU model\n",
    "print(f'Sharpe Ratio GRU (Best Model): {sharpe_ratio_gru}')\n"
   ]
  },
  {
   "cell_type": "code",
   "execution_count": null,
   "metadata": {
    "id": "vadUMDLlrVaZ"
   },
   "outputs": [],
   "source": []
  }
 ],
 "metadata": {
  "colab": {
   "authorship_tag": "ABX9TyOmaYozbV+ob+SpO4XKqjET",
   "provenance": []
  },
  "kernelspec": {
   "display_name": "Python 3 (ipykernel)",
   "language": "python",
   "name": "python3"
  },
  "language_info": {
   "codemirror_mode": {
    "name": "ipython",
    "version": 3
   },
   "file_extension": ".py",
   "mimetype": "text/x-python",
   "name": "python",
   "nbconvert_exporter": "python",
   "pygments_lexer": "ipython3",
   "version": "3.9.13"
  }
 },
 "nbformat": 4,
 "nbformat_minor": 1
}
